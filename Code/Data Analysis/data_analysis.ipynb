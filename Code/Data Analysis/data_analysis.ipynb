{
 "cells": [
  {
   "cell_type": "code",
   "execution_count": null,
   "id": "0dd57548-72d6-4bb4-b259-37c8223226b2",
   "metadata": {},
   "outputs": [],
   "source": [
    "import matplotlib.pyplot as plt\n",
    "import numpy as np\n",
    "import os\n",
    "import spectral3\n",
    "import matplotlib as mpl\n",
    "mpl.rcParams['axes.formatter.useoffset'] = False\n",
    "from IPython.display import display, clear_output\n",
    "import time\n",
    "import graph"
   ]
  },
  {
   "cell_type": "code",
   "execution_count": null,
   "id": "c20577da-f01a-4356-b3a6-1e784e4419e3",
   "metadata": {},
   "outputs": [],
   "source": [
    "bd = '' # directory of your data file\n",
    "fn = '' # data file name"
   ]
  },
  {
   "cell_type": "code",
   "execution_count": null,
   "id": "faddcc95-1f43-4578-a487-06b61430a63b",
   "metadata": {},
   "outputs": [],
   "source": [
    "def add_lines(ax):\n",
    "    ax[2].axhline()\n",
    "    ax[2].axhline(1)\n",
    "    ax[2].axhline(-1)\n",
    "    \n",
    "data = np.loadtxt(os.path.join(bd, fn), skiprows=2)\n",
    "data[:,0] -= data[0, 0]\n",
    "scaling = [1/3600, 1, 1, 37*1000, 1, 1, 1, 1, 1]\n",
    "stime = 1\n",
    "etime = None\n",
    "titles = [\"Temp voltage\", \"Independent temperature\", \"Feedback error (mK)\", \"Proportional\", \"Integral\", \"Derivative\", \"PID output\", \"Voltage output\"]\n",
    "graph.graph(data, titles=titles, stime=stime, etime=etime, flair_func=add_lines, scaling=scaling)"
   ]
  },
  {
   "cell_type": "code",
   "execution_count": null,
   "id": "90f1400d-fc3a-40cf-8a6a-9003ca08af89",
   "metadata": {},
   "outputs": [],
   "source": [
    "def add_lines(ax):\n",
    "    ax[2].axhline()\n",
    "    ax[2].axhline(1)\n",
    "    ax[2].axhline(-1)\n",
    "    \n",
    "scaling = [1, 1, 1, 37*1000, 1, 1, 1, 1, 1]\n",
    "titles = [\"Temp voltage\", \"Independent temperature\", \"Feedback error (mK)\", \"Proportional\", \"Integral\", \"Derivative\", \"PID output\", \"Voltage output\"]\n",
    "graph.plot_sliding_window(os.path.join(bd, fn), titles=titles, flair_func=add_lines, scaling=scaling)"
   ]
  },
  {
   "cell_type": "code",
   "execution_count": null,
   "id": "2e29507b-83c3-426f-acec-d740c53b013d",
   "metadata": {},
   "outputs": [],
   "source": [
    "specdata = data[:, [3, 4, 5, 6]]\n",
    "labels = [\"err\", \"p\", \"i\", \"d\"]\n",
    "fmtstrs = [\"k-\", \"r-\", \"b-\", \"g-\"]\n",
    "dt = 1\n",
    "graph.graph_spectrum(specdata, dt, labels=labels, fmtstrs=fmtstrs, L=len(specdata), size = (10, 10))"
   ]
  }
 ],
 "metadata": {
  "kernelspec": {
   "display_name": "Python 3",
   "language": "python",
   "name": "python3"
  },
  "language_info": {
   "codemirror_mode": {
    "name": "ipython",
    "version": 3
   },
   "file_extension": ".py",
   "mimetype": "text/x-python",
   "name": "python",
   "nbconvert_exporter": "python",
   "pygments_lexer": "ipython3",
   "version": "3.12.10"
  }
 },
 "nbformat": 4,
 "nbformat_minor": 5
}
